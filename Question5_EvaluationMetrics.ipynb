{
 "cells": [
  {
   "cell_type": "code",
   "execution_count": 3,
   "id": "e0624a3e-87b3-455f-92cf-91e962f9d46b",
   "metadata": {},
   "outputs": [
    {
     "name": "stdout",
     "output_type": "stream",
     "text": [
      "Cat: Precision = 0.250, Recall = 0.250\n",
      "Dog: Precision = 0.444, Recall = 0.444\n",
      "Rabbit: Precision = 0.400, Recall = 0.400\n",
      "\n",
      "Macro Precision = 0.365, Macro Recall = 0.365\n",
      "Micro Precision = 0.389, Micro Recall = 0.389\n"
     ]
    }
   ],
   "source": [
    "import numpy as np\n",
    "\n",
    "# Confusion matrix\n",
    "conf_matrix = np.array([\n",
    "    [5, 10, 5],\n",
    "    [15, 20, 10],\n",
    "    [0, 15, 10]\n",
    "])\n",
    "\n",
    "classes = [\"Cat\", \"Dog\", \"Rabbit\"]\n",
    "\n",
    "# Per-class metrics\n",
    "precisions, recalls = [], []\n",
    "\n",
    "for i, cls in enumerate(classes):\n",
    "    TP = conf_matrix[i, i]\n",
    "    FP = conf_matrix[i, :].sum() - TP\n",
    "    FN = conf_matrix[:, i].sum() - TP\n",
    "\n",
    "    precision = TP / (TP + FP) if (TP + FP) > 0 else 0\n",
    "    recall = TP / (TP + FN) if (TP + FN) > 0 else 0\n",
    "\n",
    "    precisions.append(precision)\n",
    "    recalls.append(recall)\n",
    "\n",
    "    print(f\"{cls}: Precision = {precision:.3f}, Recall = {recall:.3f}\")\n",
    "\n",
    "# Macro averages\n",
    "macro_precision = np.mean(precisions)\n",
    "macro_recall = np.mean(recalls)\n",
    "\n",
    "# Micro averages\n",
    "TP_total = np.trace(conf_matrix)\n",
    "FP_total = conf_matrix.sum(axis=1).sum() - TP_total - conf_matrix.sum(axis=0).sum() + TP_total\n",
    "# Actually easier way:\n",
    "FP_total = (conf_matrix.sum(axis=1) - np.diag(conf_matrix)).sum()\n",
    "FN_total = (conf_matrix.sum(axis=0) - np.diag(conf_matrix)).sum()\n",
    "\n",
    "micro_precision = TP_total / (TP_total + FP_total)\n",
    "micro_recall = TP_total / (TP_total + FN_total)\n",
    "\n",
    "print(f\"\\nMacro Precision = {macro_precision:.3f}, Macro Recall = {macro_recall:.3f}\")\n",
    "print(f\"Micro Precision = {micro_precision:.3f}, Micro Recall = {micro_recall:.3f}\")"
   ]
  },
  {
   "cell_type": "code",
   "execution_count": null,
   "id": "d12f133a-4c30-457c-b815-5dd06499a883",
   "metadata": {},
   "outputs": [],
   "source": []
  }
 ],
 "metadata": {
  "kernelspec": {
   "display_name": "Python [conda env:base] *",
   "language": "python",
   "name": "conda-base-py"
  },
  "language_info": {
   "codemirror_mode": {
    "name": "ipython",
    "version": 3
   },
   "file_extension": ".py",
   "mimetype": "text/x-python",
   "name": "python",
   "nbconvert_exporter": "python",
   "pygments_lexer": "ipython3",
   "version": "3.12.7"
  }
 },
 "nbformat": 4,
 "nbformat_minor": 5
}
